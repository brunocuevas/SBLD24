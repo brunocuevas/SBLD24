{
 "cells": [
  {
   "cell_type": "markdown",
   "id": "ced971c5",
   "metadata": {},
   "source": [
    "# PubChem"
   ]
  },
  {
   "cell_type": "markdown",
   "id": "050eaa6b",
   "metadata": {},
   "source": [
    "PubChem provides several ways for programmatic access to its data:\n",
    "\n",
    "  - PUG-REST: simplified access route to PubChem without the overhead of XML or SOAP envelopes. PUG-REST provides convenient acces to information on PubChem records not posible with other PUG services\n",
    "  \n",
    "  - PUG-View: REST-style web service that provides full reports, including thirty-party tectual annotation, for individual PubChem  records.\n",
    "  \n",
    "  - Power User Gateway (PUG): PUG provides programmatic acces to PubChem services via single common gateway interface (CGI), available at http://pubchem.ncbi.nlm.nih.gov/pug/pug.cgi.\n",
    "  \n",
    "  - PUG-SOAP: web service access to PubChem data usin the somple object acces protocol (SOAP).\n",
    "  \n",
    "  - PubChemRDF REST interface: This is a REST-style interface designed to acces RDF-encoded PubChem data.\n",
    "  \n",
    "  - Entrez Utilities: E-utils are a set of programs used to access to information contained in the Entrez system."
   ]
  },
  {
   "cell_type": "markdown",
   "id": "d241a64f",
   "metadata": {},
   "source": [
    "### Programattic acces using PUG-REST."
   ]
  },
  {
   "cell_type": "markdown",
   "id": "b70b676f",
   "metadata": {},
   "source": [
    "**PUG-REST tutorial**: https://pubchemdocs.ncbi.nlm.nih.gov/pug-rest-tutorial"
   ]
  },
  {
   "cell_type": "markdown",
   "id": "96bcc359",
   "metadata": {},
   "source": [
    "How PUG REST Works:\n",
    "The URL Path: Most – if not all – of the information the service needs to produce its results is encoded into the URL. \n",
    "\n",
    "\n",
    "The conceptual framework of this service is the three-part request: \n",
    "- input – that is, what identifiers are we talking about (ID, name, SMILEs, InChl...); Identifier: SID, CID, AID\n",
    "\n",
    "- operation – what to do with those identifiers; \n",
    "\n",
    "- output – what information should be returned: xml, sdf, png, txt,... \n"
   ]
  },
  {
   "cell_type": "markdown",
   "id": "dec450b1",
   "metadata": {},
   "source": [
    "**Design of the URL:**\n",
    "PUG REST is entirely based on HTTP (or HTTPS) requests\n",
    "\"https://pubchem.ncbi.nlm.nih.gov/rest/pug\"\n",
    "\n",
    "   **Input**: \n",
    "   \n",
    "            /compound/name/xxx   \n",
    "\t        /compound/cid/xxx\n",
    "            cid | name | smiles | inchi | sdf | inchikey | formula | \n",
    "           \n",
    "   **Operation:**\n",
    "   \n",
    "            /property/InChI\n",
    "            /property/MolecularWeight\n",
    "            /cids\n",
    "              \n",
    "              If no operation is specified at all, the default is to retrieve the entire record. \n",
    "              What operations are available    are dependent on the input domain. \n",
    "\n",
    "\n",
    "              <compound property> = property / [comma-separated list of property tags]\n",
    "              Property tags: MolecularWeight, MolecularFormula,CanonicalSmiles,cids,XLogP... \n",
    "              check in the compound property table (https://pubchemdocs.ncbi.nlm.nih.gov/pug-rest)\n",
    "              \n",
    "   **Output:** /TXT\n",
    "            /JSON\n",
    "            /PNG\n",
    "            \n",
    "            <output specification> = XML | ASNT | ASNB | JSON | JSONP | SDF | CSV | PNG | TXT"
   ]
  },
  {
   "cell_type": "markdown",
   "id": "764c7ed7",
   "metadata": {},
   "source": [
    "## *Examples*\n"
   ]
  },
  {
   "cell_type": "code",
   "execution_count": 1,
   "id": "0e1af125",
   "metadata": {
    "scrolled": true
   },
   "outputs": [],
   "source": [
    "#Import libraries\n",
    "import requests\n",
    "import pandas as pd # analysis of tabular data\n",
    "from IPython.display import Image # Public API for display tools in IPython."
   ]
  },
  {
   "cell_type": "code",
   "execution_count": 2,
   "id": "b5491ced",
   "metadata": {
    "scrolled": true
   },
   "outputs": [
    {
     "name": "stdout",
     "output_type": "stream",
     "text": [
      "PubChem CID for ibuprofen is:\n",
      "3672\n"
     ]
    }
   ],
   "source": [
    "# Get PubChem CID by name\n",
    "\n",
    "name = \"ibuprofen\"\n",
    "url = f\"https://pubchem.ncbi.nlm.nih.gov/rest/pug/compound/name/{name}/cids/JSON\"\n",
    "\n",
    "r = requests.get(url)\n",
    "response = r.json()\n",
    "if \"IdentifierList\" in response:\n",
    "    cid = response[\"IdentifierList\"][\"CID\"][0]\n",
    "else:\n",
    "    raise ValueError(f\"Could not find matches for compound: {name}\") #  used to raise exceptions or errors\n",
    "print(f\"PubChem CID for {name} is:\\n{cid}\")\n"
   ]
  },
  {
   "cell_type": "markdown",
   "id": "ef2e2af3",
   "metadata": {},
   "source": [
    "#### RETRIEVE MOLECULAR PROPERTIES\n"
   ]
  },
  {
   "cell_type": "markdown",
   "id": "be75c144",
   "metadata": {},
   "source": [
    "To retrieve molecular properties we need to define it in the URL as property ( /compound/name/property/xxx). \n",
    "\n",
    "Check properties in the compound property table (https://pubchemdocs.ncbi.nlm.nih.gov/pug-rest)\n",
    "\n",
    "\n"
   ]
  },
  {
   "cell_type": "code",
   "execution_count": 3,
   "id": "6730b483",
   "metadata": {},
   "outputs": [
    {
     "name": "stdout",
     "output_type": "stream",
     "text": [
      "Molecular weight for ibuprofen is:\n",
      "206.28\n"
     ]
    }
   ],
   "source": [
    "# Get molecular weight for ibuprofen\n",
    "cid =\"3672\"\n",
    "url = f\"https://pubchem.ncbi.nlm.nih.gov/rest/pug/compound/cid/{cid}/property/MolecularWeight/JSON\"\n",
    "\n",
    "r = requests.get(url)\n",
    "response = r.json()\n",
    "\n",
    "if \"PropertyTable\" in response:\n",
    "    mol_weight = response[\"PropertyTable\"][\"Properties\"][0][\"MolecularWeight\"]\n",
    "else:\n",
    "    raise ValueError(f\"Could not find matches for PubChem CID: {cid}\")\n",
    "print(f\"Molecular weight for {name} is:\\n{mol_weight}\")\n"
   ]
  },
  {
   "cell_type": "markdown",
   "id": "ae7adfb3",
   "metadata": {},
   "source": [
    "**Depict a compound using PubChem: get a png image**"
   ]
  },
  {
   "cell_type": "code",
   "execution_count": 4,
   "id": "d72875a1",
   "metadata": {
    "scrolled": true
   },
   "outputs": [
    {
     "name": "stdout",
     "output_type": "stream",
     "text": [
      "The 2D structure of ibuprofen:\n"
     ]
    },
    {
     "data": {
      "image/png": "[encoded data removed]",
      "text/plain": [
       "<IPython.core.display.Image object>"
      ]
     },
     "metadata": {},
     "output_type": "display_data"
    }
   ],
   "source": [
    "url = f\"https://pubchem.ncbi.nlm.nih.gov/rest/pug/compound/cid/{cid}/PNG\"\n",
    "\n",
    "r = requests.get(url)\n",
    "r.raise_for_status()\n",
    "\n",
    "print (f\"The 2D structure of {name}:\")\n",
    "display(Image(r.content))"
   ]
  },
  {
   "cell_type": "markdown",
   "id": "cfe3558c",
   "metadata": {},
   "source": [
    "# Similarity search\n",
    "\n"
   ]
  },
  {
   "cell_type": "markdown",
   "id": "1eee8369",
   "metadata": {},
   "source": [
    "*Operation defined in the URL:*\n",
    "\n",
    "Fastsimilarity_2d: PubChem substructure fingerprint and Tanimoto Index\n",
    "\n",
    "Fastsimilarity_3d: Similarity is evaluated with the shape-Tanimoto (ST) and color-Tanimoto (CT) scores, which quantify the similarity between their conformers in 3-D shape and functional group orientations, respectively. The ST and CT scores are calculated using the Gaussian-shape overlay method by Grant and Pickup, and implemented in the Rapid Overlay of Chemical Structures.However, because 3-D similarity search takes much longer than 2-D similarity search, it often exceeds the 30-second time limit and returns a time-out error, especially when the query molecule is big. 3-D similarity search uses a shape-Tanimoto of >=0.80 and a color-Tanimoto of >=0.50 as a similarity threshold. \n"
   ]
  },
  {
   "cell_type": "code",
   "execution_count": 5,
   "id": "e2dbda1a",
   "metadata": {},
   "outputs": [
    {
     "name": "stdout",
     "output_type": "stream",
     "text": [
      "9875401\n",
      "6433119\n",
      "11524901\n",
      "25255944\n",
      "25164166\n",
      "25190310\n",
      "56589668\n",
      "56598114\n",
      "68152323\n",
      "123868009\n",
      "143433422\n",
      "144489887\n",
      "145624236\n",
      "145624246\n",
      "154630277\n",
      "159596345\n",
      "11994745\n",
      "25190129\n",
      "25190130\n",
      "25190186\n",
      "25190187\n",
      "25190188\n",
      "25190189\n",
      "25190190\n",
      "25190248\n",
      "25190249\n",
      "25190250\n",
      "25190251\n",
      "25190252\n",
      "25190311\n",
      "25255845\n",
      "25255945\n",
      "25255946\n",
      "49849874\n",
      "133687098\n",
      "156594383\n",
      "169435566\n",
      "\n"
     ]
    }
   ],
   "source": [
    "smiles = \"C1COCC(=O)N1C2=CC=C(C=C2)N3C[C@@H](OC3=O)CNC(=O)C4=CC=C(S4)Cl\"\n",
    "url = f\"https://pubchem.ncbi.nlm.nih.gov/rest/pug/compound/fastsimilarity_2d/smiles/{smiles}/cids/txt?Threshold=99\"\n",
    "\n",
    "response= requests.get (url)\n",
    "print(response.text)\n"
   ]
  },
  {
   "cell_type": "markdown",
   "id": "8c12f721",
   "metadata": {},
   "source": [
    "### BE CAREFULLY!!\n",
    "It is worth mentioning that the parameter name \"Threshold\" is case-sensitive. If \"threshold\" is used (rather than \"Threshold\"), it will be ignored and the default value (0.90) will be used for the parameter. "
   ]
  }
 ],
 "metadata": {
  "kernelspec": {
   "display_name": "sbld24",
   "language": "python",
   "name": "python3"
  },
  "language_info": {
   "codemirror_mode": {
    "name": "ipython",
    "version": 3
   },
   "file_extension": ".py",
   "mimetype": "text/x-python",
   "name": "python",
   "nbconvert_exporter": "python",
   "pygments_lexer": "ipython3",
   "version": "3.10.15"
  }
 },
 "nbformat": 4,
 "nbformat_minor": 5
}
