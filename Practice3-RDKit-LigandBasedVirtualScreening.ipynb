{
 "cells": [
  {
   "cell_type": "markdown",
   "metadata": {},
   "source": [
    "# RDkit: Open-Source cheminformatics"
   ]
  },
  {
   "cell_type": "markdown",
   "metadata": {},
   "source": [
    "RDKit documentation:\n",
    "- https://github.com/rdkit\n",
    "- https://www.rdkit.org/\n",
    "- https://www.rdkit.org/docs/Cookbook.html\n"
   ]
  },
  {
   "cell_type": "markdown",
   "metadata": {},
   "source": [
    "RDKit is an open-source cheminformatics toolkit widely used in computational chemistry and drug discovery. It provides a comprehensive set of tools and libraries for working with chemical structures. Some of the most common libraries within RDKit include:\n",
    "\n",
    "    Chem: The core library for working with chemical structures, enabling the creation, modification, and analysis of molecules. It allows for tasks like substructure searching, molecular property calculations, and structure rendering.\n",
    "\n",
    "    ChemDraw: A library for generating 2D chemical structure diagrams and visual representations. It is often used for drawing and displaying chemical structures in scientific publications.\n",
    "\n",
    "    AllChem: This library focuses on the handling of 3D chemical structures. It provides tools for 3D molecular conformer generation, alignment, and structure optimization, essential for tasks like virtual screening and molecular docking.\n",
    "\n",
    "    Descriptors: This library is used to calculate molecular descriptors, which are numerical values that represent various chemical properties and features of molecules. Descriptors are crucial for quantitative structure-activity relationship (QSAR) modeling."
   ]
  },
  {
   "cell_type": "code",
   "execution_count": 267,
   "metadata": {},
   "outputs": [],
   "source": [
    "# Import necessary libraries\n",
    "from rdkit import Chem  # RDKit library for working with molecules\n",
    "from rdkit.Chem import Draw, AllChem, MACCSkeys  # Submodules for molecule visualization, fingerprints, and shape comparison\n",
    "import pandas as pd  # Library for data manipulation and analysis\n",
    "from rdkit import DataStructs # Import module for working with fingerprint similarity\n",
    "import requests\n",
    "import matplotlib.pyplot as plt\n",
    "import seaborn as sns\n",
    "import numpy as np\n",
    "from tqdm import tqdm"
   ]
  },
  {
   "cell_type": "markdown",
   "metadata": {},
   "source": [
    "## Query molecule: Ibuprofen"
   ]
  },
  {
   "cell_type": "markdown",
   "metadata": {},
   "source": [
    "We could depict molecules using diferents formats:\n",
    "- Smiles: MolFromSmiles\n",
    "- Smarts: MolFromSmarts\n",
    "- Mol file information: MolFromMolFile"
   ]
  },
  {
   "cell_type": "markdown",
   "metadata": {},
   "source": [
    "*Depict one molecule with its Smiles*\n",
    "    \n",
    " CC(C)CC1=CC=C(C=C1)C(C)C(=O)O"
   ]
  },
  {
   "cell_type": "code",
   "execution_count": 180,
   "metadata": {},
   "outputs": [],
   "source": [
    "# Load a molecule from SMILES\n",
    "# smiles = 'CC(C)CC1=CC=C(C=C1)C(C)C(=O)O'\n",
    "smiles = 'CCN[C@H]1CN(CCCOC)S(=O)(=O)c2sc(S(N)(=O)=O)cc21'\n",
    "mol = Chem.MolFromSmiles(smiles) # convert the SMILES string into an RDKit molecule object"
   ]
  },
  {
   "cell_type": "code",
   "execution_count": null,
   "metadata": {},
   "outputs": [],
   "source": [
    "# Draw the molecule\n",
    "Draw.MolToImage(mol)"
   ]
  },
  {
   "cell_type": "code",
   "execution_count": null,
   "metadata": {},
   "outputs": [],
   "source": [
    "#Also we could print mol file information\n",
    "print(Chem.MolToMolBlock(mol))"
   ]
  },
  {
   "cell_type": "code",
   "execution_count": null,
   "metadata": {
    "scrolled": true
   },
   "outputs": [],
   "source": [
    "# Add Hydrogens:\n",
    "QueryH = Chem.AddHs(mol)\n",
    "Draw.MolToImage(QueryH)"
   ]
  },
  {
   "cell_type": "code",
   "execution_count": null,
   "metadata": {
    "scrolled": true
   },
   "outputs": [],
   "source": [
    "# Remove Hydrogens\n",
    "QuerynoH = Chem.RemoveHs (QueryH)\n",
    "Draw.MolToImage(QuerynoH)"
   ]
  },
  {
   "cell_type": "code",
   "execution_count": 185,
   "metadata": {},
   "outputs": [],
   "source": [
    "# Write Smiles\n",
    "w1 = Chem.SmilesWriter('brinzolamide.smi')\n",
    "w1.write(QueryH)\n",
    "w1.close()"
   ]
  },
  {
   "cell_type": "code",
   "execution_count": 186,
   "metadata": {},
   "outputs": [],
   "source": [
    "# Write molecules in sdf format:\n",
    "w2 = Chem.SDWriter('brinzolamide.sdf')\n",
    "w2.write(QueryH)\n",
    "w2.close()"
   ]
  },
  {
   "cell_type": "code",
   "execution_count": null,
   "metadata": {},
   "outputs": [],
   "source": [
    "# Generate 3D coordinates for the molecule\n",
    "AllChem.EmbedMolecule(QueryH, randomSeed=42)  # You can provide a random seed for reproducibility\n",
    "# Optimize the 3D coordinates\n",
    "AllChem.MMFFOptimizeMolecule(QueryH, mmffVariant=\"MMFF94\")"
   ]
  },
  {
   "cell_type": "markdown",
   "metadata": {},
   "source": [
    "EmbedMolecule and MMFFOOptimizeMolecule functions from RDKit's AllChem module do not return a molecule object with 3D coordinates. Instead, it modifies the provided molecule object in place by adding 3D coordinates to it."
   ]
  },
  {
   "cell_type": "code",
   "execution_count": null,
   "metadata": {},
   "outputs": [],
   "source": [
    "Draw.MolToImage(QueryH)"
   ]
  },
  {
   "cell_type": "code",
   "execution_count": null,
   "metadata": {},
   "outputs": [],
   "source": [
    "print(Chem.MolToMolBlock(QueryH))"
   ]
  },
  {
   "cell_type": "code",
   "execution_count": 190,
   "metadata": {},
   "outputs": [],
   "source": [
    "# Write molecules in sdf format:\n",
    "w3 = Chem.SDWriter('optimizeexample.sdf')\n",
    "w3.write(QueryH)\n",
    "w3.close()"
   ]
  },
  {
   "cell_type": "code",
   "execution_count": 191,
   "metadata": {},
   "outputs": [],
   "source": [
    "# Create an SDWriter object\n",
    "w3 = Chem.SDWriter('optimizeexamplewithcomments.sdf')\n",
    "\n",
    "# Set a comment for the molecule\n",
    "comment = \"This is a comment for the molecule.\"\n",
    "\n",
    "# Add the comment to the specific data field\n",
    "mol.SetProp(\"COMMENT\", comment)\n",
    "\n",
    "# Save the molecule to the SDF file\n",
    "w3.write(mol)\n",
    "w3.close()"
   ]
  },
  {
   "cell_type": "code",
   "execution_count": 218,
   "metadata": {},
   "outputs": [],
   "source": [
    "r = requests.get('https://www.ebi.ac.uk/chembl/api/data/similarity/CHEMBL220491/50.json')\n",
    "hits = pd.DataFrame.from_records([dict(smiles=m['molecule_structures']['canonical_smiles'], similarity=float(m['similarity']), chembl_id=m['molecule_chembl_id']) for m in r.json()['molecules']])\n",
    "hits.query('similarity < 90').sample(9)[['chembl_id', 'smiles']].to_csv('hits.csv')"
   ]
  },
  {
   "cell_type": "markdown",
   "metadata": {},
   "source": [
    "#  Virtual Screening\n",
    "### Fingerprint Generation\n",
    "1) MACCS keys (https://github.com/rdkit/rdkit/blob/master/rdkit/Chem/MACCSkeys.py: Molecular ACCess System (MACCS) fingerprints, also termed MACCS structural keys, consist of 166 predefined structural fragments. Each position queries the presence or absence of one particular structural fragment or key.\n",
    "\n",
    "2) Morgan Fingerprints (Circular fingerprints) ( (https://www.rdkit.org/docs/GettingStartedInPython.html#morgan-fingerprints-circular-fingerprints): This family of fingerprints is based on the Morgan algorithm. The bits correspond to the circular environments of each atom in a molecule. The number of neighboring bonds and atoms to consider is set by the radius. Also the length of the bit string can be defined, a longer bit string will be modded to the desired length. Therefore, the Morgan fingerprint is not limited to a certain number of bits.\n"
   ]
  },
  {
   "cell_type": "markdown",
   "metadata": {},
   "source": [
    "Getting Started with the RDKit in Python\n",
    "(https://www.rdkit.org/docs/GettingStartedInPython.html#fingerprinting-and-molecular-similarity)"
   ]
  },
  {
   "cell_type": "markdown",
   "metadata": {},
   "source": [
    "<u><strong> MACCS Keys"
   ]
  },
  {
   "cell_type": "code",
   "execution_count": 219,
   "metadata": {},
   "outputs": [],
   "source": [
    "MACCQuery = MACCSkeys.GenMACCSKeys(mol)"
   ]
  },
  {
   "cell_type": "code",
   "execution_count": null,
   "metadata": {},
   "outputs": [],
   "source": [
    "MACCQuery.ToBitString()   "
   ]
  },
  {
   "cell_type": "markdown",
   "metadata": {},
   "source": [
    "Now, we use a dataset of ~ 400 molecules to perform ligand-based screening."
   ]
  },
  {
   "cell_type": "code",
   "execution_count": 221,
   "metadata": {},
   "outputs": [],
   "source": [
    "dataset = pd.read_csv('example-dataset.csv', sep=\";\", header=None, names=['chembl_id', 'smiles'])"
   ]
  },
  {
   "cell_type": "code",
   "execution_count": null,
   "metadata": {},
   "outputs": [],
   "source": [
    "num_compounds = len(dataset)\n",
    "num_compounds"
   ]
  },
  {
   "cell_type": "markdown",
   "metadata": {},
   "source": [
    "If you need to fetch a large number of compounds, you might need to implement pagination by making multiple requests with smaller limits and then combining the results. This way, you can ensure that you're not overwhelming the API and are able to retrieve the data you need."
   ]
  },
  {
   "cell_type": "code",
   "execution_count": null,
   "metadata": {
    "scrolled": true
   },
   "outputs": [],
   "source": [
    "# Convert SMILES into rdkit objects\n",
    "dataset['rdkitmol'] = dataset['smiles'].apply(Chem.MolFromSmiles)\n",
    "# Calculate MACCS fingerprints for the query molecule and fetched molecules\n",
    "dataset['MACCS_fps'] = dataset['rdkitmol'].apply(MACCSkeys.GenMACCSKeys)\n",
    "# Calculate Tanimoto similarity between the query fingerprint and fetched fingerprints\n",
    "dataset['MACCS_ts'] = dataset['MACCS_fps'].apply(lambda x: DataStructs.TanimotoSimilarity(MACCQuery, x))\n",
    "# Display the top 10 hits\n",
    "dataset.sort_values(by='MACCS_ts', ascending=False)[:10]"
   ]
  },
  {
   "cell_type": "code",
   "execution_count": null,
   "metadata": {},
   "outputs": [],
   "source": [
    "sns.relplot(x=np.arange(len(dataset)), y=dataset['MACCS_ts'].sort_values(ascending=False), aspect=2.0, height=2.0, kind='line')"
   ]
  },
  {
   "cell_type": "markdown",
   "metadata": {},
   "source": [
    "**Small exercise 1** Can you connect the hit compounds with their names using a REST-API?\n",
    "\n",
    "**Small exercise 2** Generate your own dataset and run it through the pipeline."
   ]
  },
  {
   "cell_type": "markdown",
   "metadata": {},
   "source": [
    "<u><strong> Morgan fingerprints"
   ]
  },
  {
   "cell_type": "markdown",
   "metadata": {},
   "source": [
    "We can also calculate the circular Morgan fingerprints with rdkit. The Morgan fingerprint can be calculated either as int or bit vector. By default the radius is 2 and the vector is 2048 long."
   ]
  },
  {
   "cell_type": "code",
   "execution_count": null,
   "metadata": {
    "scrolled": true
   },
   "outputs": [],
   "source": [
    "MorganQuery = AllChem.GetMorganFingerprintAsBitVect(mol, 2, nBits=2048)"
   ]
  },
  {
   "cell_type": "code",
   "execution_count": null,
   "metadata": {},
   "outputs": [],
   "source": [
    "MorganQuery.ToBitString()"
   ]
  },
  {
   "cell_type": "markdown",
   "metadata": {},
   "source": [
    "Applied to all molecules: Add Morgan fingerprints for all molecules to the DataFrame"
   ]
  },
  {
   "cell_type": "code",
   "execution_count": null,
   "metadata": {},
   "outputs": [],
   "source": [
    "#Calculate MACCS fingerprints for all molecules in the dataset\n",
    "dataset['Morgan_fps'] = dataset['rdkitmol'].apply(lambda x: AllChem.GetMorganFingerprintAsBitVect(x,2, nBits=2048))"
   ]
  },
  {
   "cell_type": "code",
   "execution_count": null,
   "metadata": {},
   "outputs": [],
   "source": [
    "# Calculate Tanimoto similarity between the query molecule and dataset molecules\n",
    "# Sort dataset by similarity and print top similar molecules\n",
    "dataset['Morgan_ts'] = dataset['Morgan_fps'].apply(lambda x: DataStructs.FingerprintSimilarity(MorganQuery, x))\n",
    "\n",
    "dataset.sort_values(by='Morgan_ts', ascending=False)[['chembl_id', 'smiles', 'Morgan_ts']][:10]"
   ]
  },
  {
   "cell_type": "code",
   "execution_count": null,
   "metadata": {},
   "outputs": [],
   "source": [
    "sns.relplot(x=np.arange(len(dataset)), y=dataset['Morgan_ts'].sort_values(ascending=False), aspect=2.0, height=2.0, kind='line')"
   ]
  },
  {
   "cell_type": "markdown",
   "metadata": {},
   "source": [
    "**Exercise 3** Do Morgan and MACCS fingerprints correlate?"
   ]
  },
  {
   "cell_type": "code",
   "execution_count": null,
   "metadata": {},
   "outputs": [],
   "source": [
    "sns.relplot(x='Morgan_ts', y='MACCS_ts', data=dataset)"
   ]
  },
  {
   "cell_type": "markdown",
   "metadata": {},
   "source": [
    "## Shape-based Virtual Screening"
   ]
  },
  {
   "cell_type": "markdown",
   "metadata": {},
   "source": [
    "In shape-based virtual screening, the goal is to compare the 3D shape and spatial arrangement of molecules to identify compounds with similar shapes. This approach is particularly useful when the exact chemical structure and interactions are not well-defined, but the overall shape is an important factor for biological activity. For example, when dealing with receptor-based binding or protein-ligand interactions, shape complementarity is a critical factor. So, the first step is to obtain the 3D coordinates\n"
   ]
  },
  {
   "cell_type": "markdown",
   "metadata": {},
   "source": [
    "**Hydrogen Addition**: Prior to 3D structure generation, add explicit hydrogen atoms to each molecule. This step is vital as hydrogen atoms play a crucial role in intermolecular interactions, particularly hydrogen bonding.\n",
    "\n",
    "**3D Structure Generation**: Generate 3D structures for each molecule in your dataset. This step is vital as it allows for the accurate representation of the molecular shape in three dimensions. \n",
    "\n",
    "**Rotamer Calculation**: If dealing with flexible molecules, consider calculating rotamers to explore the conformational space. \n",
    "\n",
    "**Molecular Alignment**: Align all molecules to a reference molecule or a template, often the bioactive ligand or a known active compound. Molecular alignment is crucial for superimposing and comparing the shapes of molecules.\n",
    "\n",
    "**Shape-Based Screening**: Compare the shape descriptors of the aligned molecules with those of the reference molecule. Identify molecules with shape descriptors that closely match the reference as potential ligands. Various similarity metrics like Tanimoto coefficients can be applied.\n",
    "\n",
    "**Ranking and Selection**: Rank the screened molecules based on their shape similarity to the reference molecule. Select the top-ranking molecules as potential ligands."
   ]
  },
  {
   "cell_type": "markdown",
   "metadata": {},
   "source": [
    "***RDKit Aligner method: Open3DALIGN object***"
   ]
  },
  {
   "cell_type": "markdown",
   "metadata": {},
   "source": [
    "The methodology behind the O3A alignment is a technique used to align two molecules in 3D space while minimizing the differences in their atomic positions. \n",
    "It calculates a weighted RMSD (root-mean-square deviation) between the atom coordinates of the two molecules. The algorithm iteratively refines the alignment by minimizing the RMSD. The RMSD value quantifies the dissimilarity between the aligned structures. A lower RMSD indicates a better alignment, where the structures are more similar in terms of their 3D spatial arrangement. When the RMSD is nearly zero, it means that the molecules are almost identical in their 3D conformation."
   ]
  },
  {
   "cell_type": "markdown",
   "metadata": {},
   "source": [
    "o3a = AllChem.GetO3A(query_conformer, target_molecule, query_conformer, target_conformer)\n",
    "rmsd = o3a.Align()  # Calculate and get the RMSD from the alignment\n",
    "\n",
    "<u>Arguments:<u>\n",
    "\n",
    "    query_conformer: This is the conformer (3D structure) of the query molecule that you want to overlay onto the target molecule. \n",
    "    target_molecule: This is the target molecule to which you want to overlay the query conformer. \n",
    "    query_conformer: This argument should be the same as the first one. It allows you to use the same conformer for both query and target for various alignment options, but it's often set to the same value as query_conformer.\n",
    "    target_conformer: This is the conformer of the target molecule.\n",
    "\n",
    "<u>Alignment Process:<u>\n",
    "\n",
    "    Superimposes and aligns the query conformer onto the target conformer based on their 3D coordinates. The alignment is typically done by minimizing the RMSD between the two conformers. This step involves the optimization of the alignment to find the best fit.\n",
    "    \n",
    "        1) Superposition: The first step in calculating the RMSD is to align or superimpose the two molecular conformations to be compared. This superposition process involves translating and rotating one of the molecules to minimize their spatial differences.\n",
    "        2) Distance Calculation: After superposition, the corresponding atoms of the two molecules are compared. The RMSD is calculated as the square root of the average of the squared differences in the positions of these atoms.\n",
    "        3) Interatomic Distances: The RMSD considers all atom pairs that correspond to one another in the aligned structures. It essentially measures the deviation of atom positions between the two molecules. Smaller RMSD values indicate a higher degree of 3D similarity or overlap.\n",
    "\n",
    "    Result Interpretation: A low RMSD value implies that the two molecules have a high level of similarity in their 3D shape. Conversely, a high RMSD value indicates substantial dissimilarity."
   ]
  },
  {
   "cell_type": "markdown",
   "metadata": {},
   "source": [
    "<u>Align two molecules<u>"
   ]
  },
  {
   "cell_type": "code",
   "execution_count": 231,
   "metadata": {},
   "outputs": [],
   "source": [
    "# Define two example molecules\n",
    "mol1 = Chem.MolFromSmiles('CCO')\n",
    "mol2 = Chem.MolFromSmiles('CCC=O')"
   ]
  },
  {
   "cell_type": "code",
   "execution_count": null,
   "metadata": {},
   "outputs": [],
   "source": [
    "mol1"
   ]
  },
  {
   "cell_type": "code",
   "execution_count": null,
   "metadata": {},
   "outputs": [],
   "source": [
    "mol2"
   ]
  },
  {
   "cell_type": "code",
   "execution_count": null,
   "metadata": {},
   "outputs": [],
   "source": [
    "# Generate 3D conformations for mol1\n",
    "mol1 = Chem.AddHs(mol1)\n",
    "AllChem.EmbedMolecule(mol1, randomSeed=42)\n",
    "AllChem.MMFFOptimizeMolecule(mol1)\n",
    "mol1"
   ]
  },
  {
   "cell_type": "code",
   "execution_count": null,
   "metadata": {},
   "outputs": [],
   "source": [
    "# Generate 3D conformations for mol2\n",
    "mol2 = Chem.AddHs(mol2)\n",
    "AllChem.EmbedMolecule(mol2, randomSeed=42)\n",
    "AllChem.MMFFOptimizeMolecule(mol2)\n",
    "mol2"
   ]
  },
  {
   "cell_type": "code",
   "execution_count": null,
   "metadata": {},
   "outputs": [],
   "source": [
    "# Now we are going to generate 25 conformations for mol2\n",
    "AllChem.EmbedMultipleConfs(mol2, numConfs=25)\n",
    "AllChem.MMFFOptimizeMoleculeConfs(mol2)"
   ]
  },
  {
   "cell_type": "code",
   "execution_count": null,
   "metadata": {},
   "outputs": [],
   "source": [
    "# Initialize the best alignment score\n",
    "best_alignment_score = float('inf')\n",
    "\n",
    "# Perform alignment and calculate the score for each conformer of mol2 with respect to mol1\n",
    "for cid in range(mol2.GetNumConformers()):\n",
    "    o3a = AllChem.GetO3A(mol2, mol1, prbCid=cid)\n",
    "    o3a.Align()\n",
    "    alignment_score = o3a.Align()\n",
    "\n",
    "    # Update the best alignment score if a lower value is found\n",
    "    if alignment_score < best_alignment_score:\n",
    "        best_alignment_score = alignment_score\n",
    "\n",
    "print(\"The best alignment score is:\", best_alignment_score)"
   ]
  },
  {
   "cell_type": "markdown",
   "metadata": {},
   "source": [
    "*Generate conformers\n",
    "AllChem.EmbedMultipleConfs: This is a function from the RDKit library that generates multiple conformers of a molecule. It uses a combination of random sampling, energy minimization, and scoring to generate multiple conformers for a molecule (different spatial arrangements). \n",
    "\n",
    "    mol: This is the molecule for which you want to generate conformers. It should be an RDKit molecule object.\n",
    "\n",
    "    numConfs=num_conformers: This argument specifies how many conformers you want to generate, and it takes the value of num_conformers we set earlier.\n",
    "    \n",
    "    params=AllChem.ETKDG: Including energy minimization during the conformer generation can help generate more physically realistic conformations. Instance of the ETKDG (Extended Tight-Binding Quantum Chemical Molecular Dynamics) parameters for conformer generation in RDKit. ETKDG is an enhanced conformer generation method that uses a knowledge-based approach to generate reasonable 3D structures of molecules.\n",
    "\n",
    "The generated conformers will be stored in the conformers variable as a list of RDKit molecule objects. \n",
    "\n",
    "Generating conformers is a multi-step process that involves several operations to create multiple spatial arrangements of the molecule. \n",
    "\n",
    "**Distance Geometry Embedding**: Distance geometry embedding, where the initial spatial positions of the atoms are randomly assigned. This generates an initial, random 3D conformation for the molecule. The goal is to find conformations where the interatomic distances match the ideal distances as closely as possible.\n",
    "\n",
    "**Energy Minimization (optional)**: An energy minimization step can be included to optimize the initial conformations. This step adjusts the atom positions to minimize the total energy of the system, making the conformer more stable.\n",
    "\n",
    "**Random Perturbations**: To explore different conformations, the conformer generator introduces random perturbations to the positions of atoms. These perturbations are applied to dihedral angles, bond lengths, and bond angles, allowing the molecule to sample a broader conformational space.\n",
    "\n",
    "**Distance Constraints**: The generator applies distance constraints to ensure that bonds between atoms don't become too short or too long. These constraints help maintain realistic bond lengths during the conformational search.\n",
    "\n",
    "**Clash Detection**: The conformer generator checks for clashes or overlaps between atoms in the conformation. If overlaps occur, it makes adjustments to eliminate the clashes.\n",
    "\n",
    "**Energy Scoring**: For each generated conformation, an energy score is computed. This score quantifies how well the conformation corresponds to the lowest-energy state of the molecule. The goal is to find conformations with low-energy scores, indicating more stable conformations.\n",
    "\n",
    "**Selection of Best Conformers**: Finally, multiple conformations are generated, and the best ones are selected based on their energy scores. You can specify how many conformers you want to generate (as in num_conformers), and the function returns the top-scoring conformers as a list."
   ]
  },
  {
   "cell_type": "markdown",
   "metadata": {},
   "source": [
    "<u>Align Dataset: multiple conformers<u>"
   ]
  },
  {
   "cell_type": "code",
   "execution_count": null,
   "metadata": {},
   "outputs": [],
   "source": [
    "# Generate 3D coordinates for the molecule\n",
    "query_smiles = 'CCN[C@H]1CN(CCCOC)S(=O)(=O)c2sc(S(N)(=O)=O)cc21'\n",
    "query = Chem.MolFromSmiles(query_smiles)\n",
    "query_h = Chem.AddHs(query)\n",
    "AllChem.EmbedMolecule(query_h, randomSeed=42)  # You can provide a random seed for reproducibility\n",
    "# Optimize the 3D coordinates\n",
    "AllChem.MMFFOptimizeMolecule(query_h, mmffVariant=\"MMFF94\")"
   ]
  },
  {
   "cell_type": "code",
   "execution_count": null,
   "metadata": {},
   "outputs": [],
   "source": [
    "O3A = AllChem.GetO3A(query_h, query_h, prbCid=0)  # Get an O3A object for superposition\n",
    "O3A.Align()"
   ]
  },
  {
   "cell_type": "code",
   "execution_count": 264,
   "metadata": {},
   "outputs": [],
   "source": [
    "def embed_optimize_align_molecule(mol, query, num_conformers = 2):\n",
    "  \"\"\"\n",
    "  This function takes ´mol´ rdkit object, embeds an initial geometry, optimizes such a geometry\n",
    "  to generate a set of n confomers, and then it aligns structurally against the reference.\n",
    "\n",
    "  It returns ´None´ if the molecule optimization was unsuccesful\n",
    "  \"\"\"\n",
    "  mol = Chem.AddHs(mol)\n",
    "  AllChem.EmbedMultipleConfs(mol, numConfs=num_conformers, params=AllChem.ETKDG())\n",
    "  AllChem.MMFFOptimizeMoleculeConfs(mol)  # Corrected to optimize all conformers\n",
    "  scores = []\n",
    "  for cid in range(mol.GetNumConformers()):\n",
    "      try:\n",
    "        O3A = AllChem.GetO3A(mol, query, prbCid=cid)  # Get an O3A object for superposition\n",
    "      except ValueError:\n",
    "        return None\n",
    "      # O3A.Align()\n",
    "      alignment_score = O3A.Align()\n",
    "      scores.append(alignment_score)\n",
    "  return np.min(scores)\n"
   ]
  },
  {
   "cell_type": "code",
   "execution_count": 268,
   "metadata": {},
   "outputs": [],
   "source": [
    "tqdm.pandas()"
   ]
  },
  {
   "cell_type": "code",
   "execution_count": null,
   "metadata": {
    "scrolled": true
   },
   "outputs": [],
   "source": [
    "# Add a new column 'Alignment_Score' to the DataFrame\n",
    "dataset['ShapeSimilarity'] = dataset['rdkitmol'].progress_apply(lambda x: embed_optimize_align_molecule(x, query_h, num_conformers=2))"
   ]
  },
  {
   "cell_type": "code",
   "execution_count": null,
   "metadata": {},
   "outputs": [],
   "source": [
    "dataset.sort_values(by='ShapeSimilarity', ascending=True)[:10]"
   ]
  },
  {
   "cell_type": "code",
   "execution_count": null,
   "metadata": {},
   "outputs": [],
   "source": [
    "sns.relplot(x=np.arange(len(dataset)), y=dataset['ShapeSimilarity'].sort_values(ascending=False), aspect=2.0, height=2.0, kind='line')"
   ]
  },
  {
   "cell_type": "code",
   "execution_count": null,
   "metadata": {},
   "outputs": [],
   "source": [
    "# Draw the first 10 molecules in a 2x5 grid\n",
    "molecules_to_show = dataset.sort_values(by='ShapeSimilarity', ascending=True).iloc[:10]  # Select the first 10 rows\n",
    "# Create a 2x5 grid of subplots for molecule display\n",
    "fig, axes = plt.subplots(2, 5, figsize=(15, 6))\n",
    "fig.subplots_adjust(hspace=0.5) # Adjust vertical spacing\n",
    "\n",
    "# Loop through the subplots and display each molecule\n",
    "for i, ax in enumerate(axes.ravel()):\n",
    "    mol = molecules_to_show['rdkitmol'].iloc[i]  # Get the RDKit molecule\n",
    "    chembl_id = molecules_to_show['chembl_id'].iloc[i]\n",
    "    img = Draw.MolToImage(mol, size=(300, 300))  # Generate and display the image\n",
    "    ax.imshow(img)  # Show the molecule image\n",
    "    ax.set_title(chembl_id)  # Set a title for the subplot\n",
    "    ax.axis('off')  # Turn off axis labels and ticks\n",
    "\n",
    "plt.show()  # Display the figure with the molecules\n",
    "\n"
   ]
  },
  {
   "cell_type": "markdown",
   "metadata": {},
   "source": [
    "**Exercise 4.1** Which are the molecules with worst-shape alignment? \n",
    "\n",
    "**Excesice 4.2** How is the relationship between Shapesimilarity and the other fingerprints? Are they correlated?"
   ]
  },
  {
   "cell_type": "markdown",
   "metadata": {},
   "source": [
    "### RDKit and ADMET properties"
   ]
  },
  {
   "cell_type": "markdown",
   "metadata": {},
   "source": [
    "<strong> Descriptor calculation"
   ]
  },
  {
   "cell_type": "markdown",
   "metadata": {},
   "source": [
    "There are a lot of descriptors available in RDKit - http://www.rdkit.org/docs/GettingStartedInPython.html#list-of-available-descriptors"
   ]
  },
  {
   "cell_type": "code",
   "execution_count": 276,
   "metadata": {},
   "outputs": [],
   "source": [
    "from rdkit.Chem import Descriptors"
   ]
  },
  {
   "cell_type": "code",
   "execution_count": null,
   "metadata": {},
   "outputs": [],
   "source": [
    "Descriptors.TPSA(QueryH)"
   ]
  },
  {
   "cell_type": "code",
   "execution_count": null,
   "metadata": {},
   "outputs": [],
   "source": [
    "Descriptors.MolLogP(QueryH)"
   ]
  },
  {
   "cell_type": "markdown",
   "metadata": {},
   "source": [
    "<strong> Calculate molecular properties for Ro5 (Rule of five) of our top 5 compounds\n",
    "    \n",
    " "
   ]
  },
  {
   "cell_type": "code",
   "execution_count": null,
   "metadata": {},
   "outputs": [],
   "source": [
    "dataset.head(5)"
   ]
  },
  {
   "cell_type": "code",
   "execution_count": 282,
   "metadata": {},
   "outputs": [],
   "source": [
    "#Define the descriptors to be analyzed\n",
    "def calculate_ro5_properties(molecule):\n",
    "    \"\"\"\n",
    "    Test if input molecule (SMILES) fulfills Lipinski's rule of five.\n",
    "\n",
    "    \"\"\"\n",
    "    # RDKit molecule from SMILES\n",
    "    # molecule = Chem.MolFromSmiles(smiles)\n",
    "    # Calculate Ro5-relevant chemical properties\n",
    "    molecular_weight = Descriptors.ExactMolWt(molecule)\n",
    "    n_hba = Descriptors.NumHAcceptors(molecule)\n",
    "    n_hbd = Descriptors.NumHDonors(molecule)\n",
    "    logp = Descriptors.MolLogP(molecule)\n",
    "    TPSA = Descriptors.TPSA (molecule)\n",
    "    # Check if Ro5 conditions fulfilled\n",
    "    conditions = [molecular_weight <= 500, n_hba <= 10, n_hbd <= 5, logp <= 5, TPSA < 140]\n",
    "    ro5_fulfilled = sum(conditions) > 4\n",
    "    # Return True if no more than one out of four conditions is violated\n",
    "    return pd.Series(\n",
    "        [molecular_weight, n_hba, n_hbd, logp, TPSA, ro5_fulfilled],\n",
    "        index=['molecular_weight', 'n_hba', 'n_hbd', 'logp', 'TPSA', 'ro5_fulfilled'],\n",
    "    )"
   ]
  },
  {
   "cell_type": "code",
   "execution_count": null,
   "metadata": {},
   "outputs": [],
   "source": [
    "# Calculate RO5 properties\n",
    "ro5_properties = dataset['rdkitmol'].apply(calculate_ro5_properties)\n",
    "ro5_properties"
   ]
  },
  {
   "cell_type": "code",
   "execution_count": null,
   "metadata": {},
   "outputs": [],
   "source": [
    "# Concatenate molecules with Ro5 data\n",
    "MoleculeDatabase = pd.concat([dataset, ro5_properties], axis=1)\n",
    "MoleculeDatabase"
   ]
  },
  {
   "cell_type": "markdown",
   "metadata": {},
   "source": [
    "**Exercise 5** Use seaborn.displot and seaborn.pairplot to generate a histogram representation of the Lipinksi properties. Check the documentation online."
   ]
  },
  {
   "cell_type": "code",
   "execution_count": null,
   "metadata": {},
   "outputs": [],
   "source": [
    "# Note that the column \"ro5_fulfilled\" contains boolean values.\n",
    "# Thus, we can use the column values directly to subset data.\n",
    "# Note that ~ negates boolean values.\n",
    "MoleculeDatabase_ro5_fulfilled = MoleculeDatabase[MoleculeDatabase['ro5_fulfilled']]\n",
    "MoleculeDatabase_ro5_violated = MoleculeDatabase[~MoleculeDatabase['ro5_fulfilled']]\n",
    "\n",
    "print(f'# compounds in unfiltered data set: {MoleculeDatabase.shape[0]}')\n",
    "print(f'# compounds in filtered data set: {MoleculeDatabase_ro5_fulfilled.shape[0]}')\n",
    "print(f'# compounds not compliant with the Ro5: {MoleculeDatabase_ro5_violated.shape[0]}')"
   ]
  },
  {
   "cell_type": "code",
   "execution_count": null,
   "metadata": {
    "scrolled": true
   },
   "outputs": [],
   "source": [
    "MoleculeDatabase_ro5_fulfilled"
   ]
  },
  {
   "cell_type": "code",
   "execution_count": null,
   "metadata": {},
   "outputs": [],
   "source": [
    "# Save filtered data\n",
    "MoleculeDatabase_ro5_fulfilled.to_csv('MoleculeDatabase_compounds_lipinski.csv')\n",
    "MoleculeDatabase_ro5_fulfilled.head()"
   ]
  },
  {
   "cell_type": "markdown",
   "metadata": {},
   "source": [
    "**Exercise 6**: Your budget only allows you to measure the activity of 5 molecules. Based on all the evidence generated in this notebook, which ones are you considering? Use rdkit to generate their formulas and CHEMBL API to retrieve attributes such as their name."
   ]
  }
 ],
 "metadata": {
  "kernelspec": {
   "display_name": "sbld24",
   "language": "python",
   "name": "python3"
  },
  "language_info": {
   "codemirror_mode": {
    "name": "ipython",
    "version": 3
   },
   "file_extension": ".py",
   "mimetype": "text/x-python",
   "name": "python",
   "nbconvert_exporter": "python",
   "pygments_lexer": "ipython3",
   "version": "3.10.15"
  }
 },
 "nbformat": 4,
 "nbformat_minor": 4
}
